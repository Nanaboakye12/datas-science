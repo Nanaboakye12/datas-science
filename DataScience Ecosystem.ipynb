{
 "cells": [
  {
   "cell_type": "markdown",
   "id": "f4a5bd1a",
   "metadata": {},
   "source": [
    "# Data Science Tools and Ecosystem"
   ]
  },
  {
   "cell_type": "markdown",
   "id": "0f01a4dd",
   "metadata": {},
   "source": [
    "In this notebook, Data science tools are summarized "
   ]
  },
  {
   "cell_type": "markdown",
   "id": "02571ecb",
   "metadata": {},
   "source": [
    "Some of the popular languages that data Scientist use are \n",
    "1. Python\n",
    "2.c++\n",
    "3. Julia\n",
    "4. Java\n",
    "5. Java Script\n"
   ]
  },
  {
   "cell_type": "markdown",
   "id": "25b19d27",
   "metadata": {},
   "source": [
    "Some common data Science Library include\n",
    "1. Pandas\n",
    "2. Scikit-learn\n",
    "3. Numpy\n",
    "4. Scipy\n",
    "5. Pytorch "
   ]
  },
  {
   "cell_type": "markdown",
   "id": "31991977",
   "metadata": {},
   "source": [
    "|Data Science|\n",
    "|---|\n",
    "|Apache|\n",
    "|Hadoop|\n",
    "|Sas|"
   ]
  },
  {
   "cell_type": "markdown",
   "id": "3144268e",
   "metadata": {},
   "source": [
    "### below are few arithematics in python "
   ]
  },
  {
   "cell_type": "code",
   "execution_count": 1,
   "id": "63277df7",
   "metadata": {},
   "outputs": [
    {
     "data": {
      "text/plain": [
       "12"
      ]
     },
     "execution_count": 1,
     "metadata": {},
     "output_type": "execute_result"
    }
   ],
   "source": [
    "#this is a common arithemetic example to multiply and then add integers\n",
    "(2*4)+4\n"
   ]
  },
  {
   "cell_type": "code",
   "execution_count": 2,
   "id": "93a5f90f",
   "metadata": {},
   "outputs": [
    {
     "data": {
      "text/plain": [
       "10.0"
      ]
     },
     "execution_count": 2,
     "metadata": {},
     "output_type": "execute_result"
    }
   ],
   "source": [
    "#this will covert 300 minutes to hours by dividing by 30 hours\n",
    "300/30"
   ]
  },
  {
   "cell_type": "markdown",
   "id": "fc398ae1",
   "metadata": {},
   "source": [
    "__tasks__\n",
    "1. list the popular languages for data science\n",
    "2. list the popular data science libraries\n",
    "3. List the well-known data science tools\n",
    "4. How to provide comments in the cell "
   ]
  },
  {
   "cell_type": "markdown",
   "id": "eea0c87d",
   "metadata": {},
   "source": [
    "## Author\n",
    "Nana Boakye-Yiadom"
   ]
  },
  {
   "cell_type": "code",
   "execution_count": null,
   "id": "8bcb833e",
   "metadata": {},
   "outputs": [],
   "source": []
  }
 ],
 "metadata": {
  "kernelspec": {
   "display_name": "Python 3 (ipykernel)",
   "language": "python",
   "name": "python3"
  },
  "language_info": {
   "codemirror_mode": {
    "name": "ipython",
    "version": 3
   },
   "file_extension": ".py",
   "mimetype": "text/x-python",
   "name": "python",
   "nbconvert_exporter": "python",
   "pygments_lexer": "ipython3",
   "version": "3.9.7"
  }
 },
 "nbformat": 4,
 "nbformat_minor": 5
}
